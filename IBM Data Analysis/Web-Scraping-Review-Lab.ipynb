{
 "cells": [
  {
   "cell_type": "markdown",
   "metadata": {},
   "source": [
    "<center>\n",
    "    <img src=\"https://gitlab.com/ibm/skills-network/courses/placeholder101/-/raw/master/labs/module%201/images/IDSNlogo.png\" width=\"300\" alt=\"cognitiveclass.ai logo\"  />\n",
    "</center>\n"
   ]
  },
  {
   "cell_type": "markdown",
   "metadata": {},
   "source": [
    "# **Web Scraping Lab**\n"
   ]
  },
  {
   "cell_type": "markdown",
   "metadata": {},
   "source": [
    "Estimated time needed: **30** minutes\n"
   ]
  },
  {
   "cell_type": "markdown",
   "metadata": {},
   "source": [
    "## Objectives\n"
   ]
  },
  {
   "cell_type": "markdown",
   "metadata": {},
   "source": [
    "After completing this lab you will be able to:\n"
   ]
  },
  {
   "cell_type": "markdown",
   "metadata": {},
   "source": [
    "-   Download a webpage using requests module\n",
    "-   Scrape all links from a web page\n",
    "-   Scrape all image urls from a web page\n",
    "-   Scrape data from html tables\n"
   ]
  },
  {
   "cell_type": "markdown",
   "metadata": {},
   "source": [
    "## Scrape [www.ibm.com](http://www.ibm.com?cm_mmc=Email_Newsletter-_-Developer_Ed%2BTech-_-WW_WW-_-SkillsNetwork-Courses-IBM-DA0321EN-SkillsNetwork-21426264&cm_mmca1=000026UJ&cm_mmca2=10006555&cm_mmca3=M12345678&cvosrc=email.Newsletter.M12345678&cvo_campaign=000026UJ&cm_mmc=Email_Newsletter-_-Developer_Ed%2BTech-_-WW_WW-_-SkillsNetwork-Courses-IBM-DA0321EN-SkillsNetwork-21426264&cm_mmca1=000026UJ&cm_mmca2=10006555&cm_mmca3=M12345678&cvosrc=email.Newsletter.M12345678&cvo_campaign=000026UJ)\n"
   ]
  },
  {
   "cell_type": "markdown",
   "metadata": {},
   "source": [
    "Import the required modules and functions\n"
   ]
  },
  {
   "cell_type": "code",
   "execution_count": 1,
   "metadata": {},
   "outputs": [],
   "source": [
    "from bs4 import BeautifulSoup # this module helps in web scrapping.\n",
    "import requests  # this module helps us to download a web page"
   ]
  },
  {
   "cell_type": "markdown",
   "metadata": {},
   "source": [
    "Download the contents of the web page\n"
   ]
  },
  {
   "cell_type": "code",
   "execution_count": 2,
   "metadata": {},
   "outputs": [],
   "source": [
    "url = \"http://www.ibm.com\""
   ]
  },
  {
   "cell_type": "code",
   "execution_count": 3,
   "metadata": {},
   "outputs": [],
   "source": [
    "# get the contents of the webpage in text format and store in a variable called data\n",
    "data  = requests.get(url).text "
   ]
  },
  {
   "cell_type": "markdown",
   "metadata": {},
   "source": [
    "Create a soup object using the class BeautifulSoup\n"
   ]
  },
  {
   "cell_type": "code",
   "execution_count": 4,
   "metadata": {},
   "outputs": [],
   "source": [
    "soup = BeautifulSoup(data,\"html5lib\")  # create a soup object using the variable 'data'"
   ]
  },
  {
   "cell_type": "markdown",
   "metadata": {},
   "source": [
    "Scrape all links\n"
   ]
  },
  {
   "cell_type": "code",
   "execution_count": 5,
   "metadata": {},
   "outputs": [
    {
     "name": "stdout",
     "output_type": "stream",
     "text": [
      "https://www.ibm.com/ng/en\n",
      "https://www.ibm.com/sitemap/ng/en\n",
      "/ng-en/node/1706826\n",
      "https://1.dam.s81c.com/m/7987ab9c7ee656df/original/06_Think_Gray_2112x600.jpg\n",
      "https://1.dam.s81c.com/m/7987ab9c7ee656df/original/06_Think_Gray_2112x600.jpg\n",
      "https://www.ibm.com/za-en/events/think-summit/\n",
      "/taxonomy/term/85416\n",
      "/ng-en/node/1706856\n",
      "https://ibmvirtualsummit.vfairs.com/?utm_source=Organic&utm_medium=Home_News_Stripe&utm_campaign=Virtual_Summit&utm_content=NG\n",
      "/taxonomy/term/85416\n",
      "/ng-en/node/1706851\n",
      "/ke-en/node/1706831\n",
      "/ke-en/node/1706836\n",
      "/ke-en/node/1706846\n",
      "/ke-en/node/1706841\n",
      "/taxonomy/term/85416\n",
      "/ng-en/node/2398310\n",
      "/ke-en/node/2398308\n",
      "/ke-en/node/2398312\n",
      "/ke-en/node/2398314\n",
      "/ke-en/node/2398316\n",
      "/ng-en/node/1706821\n",
      "/taxonomy/term/85416\n",
      "https://www.ibm.com/za-en/employment/\n",
      "/ng-en/node/1706816\n",
      "https://www.ibm.com/marketplace/collections/offers-and-discounts?link=kehpv18t5&lnk2=trial_mktpl_MPDISC\n",
      "/ke-en/node/1706796\n",
      "/ke-en/node/1706801\n",
      "/ke-en/node/1706806\n",
      "/ke-en/node/1706811\n",
      "/taxonomy/term/85416\n",
      "/ng-en/node/1706866\n",
      "/ng-en/node/1706861\n",
      "/taxonomy/term/85416\n",
      "/products\n",
      "https://www.ibm.com/za-en/events/think-summit/?lnk=kehpv18l1\n",
      "https://www.ibm.com/za-en/events/think-summit/?lnk=kehpv18l1\n",
      "https://www.ibm.com/impact/covid-19/\n",
      "https://www.ibm.com/marketing/mea-businessclub/?lnk=kehpv18f1\n",
      "https://www.meetup.com/IBM-Cloud-MEA/?lnk=kehpv18f2\n",
      "https://event.on24.com/wcc/r/2763957/9EF65348E71C489A4F8AF36B2955B757?partnerref=Organic\n",
      "https://event.on24.com/wcc/r/2808124/F98609F83A8498F9792D5D4C90A75EB0?partnerref=IBMHomeBanner\n",
      "https://www.ibm.com/ke-en/cloud/aspera?lnk=STW_KE_HPF_ST1_TL&psrc=NONE&pexp=DEF&lnk2=trial_AsperaCloud\n",
      "https://www.ibm.com/ke-en/marketplace/watson-assistant?lnk=STW_KE_HPF_ST2_TL&psrc=NONE&pexp=DEF&lnk2=learn_WatAssist\n",
      "https://www.ibm.com/ke-en/services/business-continuity?lnk=STW_KE_HPF_ST3_TL&psrc=NONE&pexp=DEF&lnk2=learn_BusResSvc\n",
      "https://www.ibm.com/ke-en/services/digital-workplace/desktop-virtualization?lnk=STW_KE_HPF_ST4_TL&psrc=NONE&pexp=DEF&lnk2=learn_DigWorkSvc\n",
      "https://www.ibm.com/search?lang=en&amp;cc=ng&amp;q=\n",
      "/products\n",
      "/products\n",
      "//www.ibm.com/ng-en/products/category/technology/analytics\n",
      "//www.ibm.com/ng-en/products/category/technology/cloud-computing\n",
      "//www.ibm.com/ng-en/products/category/technology/mobile-technology\n",
      "//www.ibm.com/ng-en/products/category/technology/cognitive-computing-and-AI\n",
      "//www.ibm.com/ng-en/products/category/technology/IT-infrastructure\n",
      "//www.ibm.com/ng-en/products/category/technology/security\n",
      "//www.ibm.com/ng-en/products/category/technology/blockchain\n",
      "//www.ibm.com/ng-en/products/category/technology/IT-management\n",
      "//www.ibm.com/ng-en/products/category/technology/software-development\n",
      "//www.ibm.com/ng-en/products/category/technology/analytics\n",
      "//www.ibm.com/ng-en/products/category/technology/cloud-computing\n",
      "//www.ibm.com/ng-en/products/category/technology/mobile-technology\n",
      "//www.ibm.com/ng-en/products/category/technology/cognitive-computing-and-AI\n",
      "//www.ibm.com/ng-en/products/category/technology/IT-infrastructure\n",
      "//www.ibm.com/ng-en/products/category/technology/security\n",
      "//www.ibm.com/ng-en/products/category/technology/blockchain\n",
      "//www.ibm.com/ng-en/products/category/technology/IT-management\n",
      "//www.ibm.com/ng-en/products/category/technology/software-development\n",
      "//www.ibm.com/ng-en/products/category/business/business-operations\n",
      "//www.ibm.com/ng-en/products/category/business/content-management\n",
      "//www.ibm.com/ng-en/products/category/business/human-resources\n",
      "//www.ibm.com/ng-en/products/category/business/collaboration\n",
      "//www.ibm.com/ng-en/products/category/business/customer-service-and-CRM\n",
      "//www.ibm.com/ng-en/products/category/business/marketing\n",
      "//www.ibm.com/ng-en/products/category/business/commerce\n",
      "//www.ibm.com/ng-en/products/category/business/finance\n",
      "//www.ibm.com/ng-en/products/category/business/supply-chain-management\n",
      "https://www.ibm.com/services/learning/?lnk=ushpv18s1\n",
      "https://www.ibm.com/services/learning/?lnk=ushpv18s1\n",
      "https://www.ibm.com/services/learning/?lnk=ushpv18s1\n",
      "##\n",
      "https://www.ibm.com/services/learning/?lnk=ushpv18s1\n",
      "https://www.ibm.com/services/learning/?lnk=ushpv18s1\n",
      "##\n",
      "https://www.ibm.com/services/learning/?lnk=ushpv18s1\n",
      "https://www.ibm.com/services/learning/?lnk=ushpv18s1\n",
      "https://www.ibm.com/services/learning/?lnk=ushpv18s1\n",
      "https://www.ibm.com/marketplace/collections/offers-and-discounts?link=kehpv18t5&lnk2=trial_mktpl_MPDISC\n",
      "https://www.ibm.com/products/cognos-analytics?lnk=STW_SA_HPT_T1_BLK&psrc=NONE&pexp=DEF&lnk2=trial_CogAnalytics\n",
      "https://www.ibm.com/us-en/marketplace/hosted-security-intelligence?lnk=STW_SA_HPT_T2_BLK&psrc=NONE&pexp=DEF&lnk2=trial_QRadarCloud\n",
      "https://www.ibm.com/security/mobile/maas360?lnk=STW_KE_HPT_T3_TL&lnk2=trial_MaaS360Wat&psrc=none&pexp=def\n",
      "https://www.ibm.com/cloud/api-connect?lnk=STW_KE_HPT_T4_TL&lnk2=trial_APIConn&psrc=none&pexp=def\n",
      "https://www.ibm.com/za-en/employment/\n",
      "https://www.ibm.com/za-en/employment/\n",
      "#\n"
     ]
    }
   ],
   "source": [
    "for link in soup.find_all('a'):  # in html anchor/link is represented by the tag <a>\n",
    "    print(link.get('href'))"
   ]
  },
  {
   "cell_type": "markdown",
   "metadata": {},
   "source": [
    "Scrape  all images\n"
   ]
  },
  {
   "cell_type": "code",
   "execution_count": 6,
   "metadata": {},
   "outputs": [
    {
     "name": "stdout",
     "output_type": "stream",
     "text": [
      "https://1.dam.s81c.com/m/7987ab9c7ee656df/original/06_Think_Gray_2112x600.jpg\n",
      "https://1.dam.s81c.com/m/1ff0a4504b2d30a2/LowRes_Original-LowRes-Original-webimage-20EC1235-14EF-496D-88A58948275211B6.jpg\n",
      "https://1.dam.s81c.com/m/27174bf73862a583/original/tech_at_home_webinar.jpg\n",
      "https://1.dam.s81c.com/public/content/dam/worldwide-content/homepage/ul/g/4e/67/4e67940b-5e52-4735-b5a327e5c426b551.jpg\n",
      "https://1.dam.s81c.com/public/content/dam/worldwide-content/other/ul/g/22/95/2295988e-33db-4e20-8fea4d991b81fbc6.jpg-legacy.jpg\n",
      "https://d3cy9zhslanhfa.cloudfront.net/media/7B366C30-DDC7-4FF3-98BF4262B7778C9C/B2588925-5A86-48F8-90D1ABB56153791B/thul-FDC9EA63-047A-49C1-9858C9FAA2D1D3E7.jpg\n",
      "https://d3cy9zhslanhfa.cloudfront.net/media/7B366C30-DDC7-4FF3-98BF4262B7778C9C/8E20B9F8-1283-4792-869D1BA0DE6CB334/thul-CEC7E42F-5FC6-4694-938EE8154F6192BF.jpg\n",
      "https://d3cy9zhslanhfa.cloudfront.net/media/7B366C30-DDC7-4FF3-98BF4262B7778C9C/B5E6DEA4-CA7B-4486-9557107210F1BFAB/thul-F0D416BB-2BE2-462B-9BCE824D757641BC.jpg\n",
      "https://d3cy9zhslanhfa.cloudfront.net/media/7B366C30-DDC7-4FF3-98BF4262B7778C9C/0509EBF2-CE42-4754-85DF29509CA3174B/thul-EAC450FA-ABF7-4AD0-BB862BCAB4067357.jpg\n",
      "https://1.dam.s81c.com/m/6e652a22b9e6ba2e/original/ibm-skills-gateway-444x320.jpg\n",
      "https://1.dam.s81c.com/m/6e652a22b9e6ba2e/original/ibm-skills-gateway-444x320.jpg\n",
      "https://1.dam.s81c.com/m/312749fc346815ed/original/Cognos-Analytics-434x259.png\n",
      "https://1.cms.s81c.com/sites/default/files/2020-02-03/trial-idio-ibm-qradar-434x259.png\n",
      "https://1.dam.s81c.com/m/580b11a5351058af/original/09172018-t-MaaS360-with-Watson-19836-520x260.png\n",
      "https://1.dam.s81c.com/m/023513b960d1a76e/original/API-Connect-434x259.png\n"
     ]
    }
   ],
   "source": [
    "for link in soup.find_all('img'):# in html image is represented by the tag <img>\n",
    "    print(link.get('src'))"
   ]
  },
  {
   "cell_type": "markdown",
   "metadata": {},
   "source": [
    "## Scrape data from html tables\n"
   ]
  },
  {
   "cell_type": "code",
   "execution_count": 7,
   "metadata": {},
   "outputs": [],
   "source": [
    "#The below url contains a html table with data about colors and color codes."
   ]
  },
  {
   "cell_type": "code",
   "execution_count": 8,
   "metadata": {},
   "outputs": [],
   "source": [
    "url = \"https://cf-courses-data.s3.us.cloud-object-storage.appdomain.cloud/IBM-DA0321EN-SkillsNetwork/labs/datasets/HTMLColorCodes.html\""
   ]
  },
  {
   "cell_type": "markdown",
   "metadata": {},
   "source": [
    "Before proceeding to scrape a web site, you need to examine the contents, and the way data is organized on the website. Open the above url in your browser and check how many rows and columns are there in the color table.\n"
   ]
  },
  {
   "cell_type": "code",
   "execution_count": 9,
   "metadata": {},
   "outputs": [],
   "source": [
    "# get the contents of the webpage in text format and store in a variable called data\n",
    "data  = requests.get(url).text"
   ]
  },
  {
   "cell_type": "code",
   "execution_count": 15,
   "metadata": {},
   "outputs": [],
   "source": [
    "soup = BeautifulSoup(data,\"html5lib\")"
   ]
  },
  {
   "cell_type": "code",
   "execution_count": 16,
   "metadata": {},
   "outputs": [],
   "source": [
    "#find a html table in the web page\n",
    "table = soup.find('table') # in html table is represented by the tag <table>"
   ]
  },
  {
   "cell_type": "code",
   "execution_count": 12,
   "metadata": {},
   "outputs": [
    {
     "name": "stdout",
     "output_type": "stream",
     "text": [
      "Color Name--->Hex Code#RRGGBB\n",
      "lightsalmon--->#FFA07A\n",
      "salmon--->#FA8072\n",
      "darksalmon--->#E9967A\n",
      "lightcoral--->#F08080\n",
      "coral--->#FF7F50\n",
      "tomato--->#FF6347\n",
      "orangered--->#FF4500\n",
      "gold--->#FFD700\n",
      "orange--->#FFA500\n",
      "darkorange--->#FF8C00\n",
      "lightyellow--->#FFFFE0\n",
      "lemonchiffon--->#FFFACD\n",
      "papayawhip--->#FFEFD5\n",
      "moccasin--->#FFE4B5\n",
      "peachpuff--->#FFDAB9\n",
      "palegoldenrod--->#EEE8AA\n",
      "khaki--->#F0E68C\n",
      "darkkhaki--->#BDB76B\n",
      "yellow--->#FFFF00\n",
      "lawngreen--->#7CFC00\n",
      "chartreuse--->#7FFF00\n",
      "limegreen--->#32CD32\n",
      "lime--->#00FF00\n",
      "forestgreen--->#228B22\n",
      "green--->#008000\n",
      "powderblue--->#B0E0E6\n",
      "lightblue--->#ADD8E6\n",
      "lightskyblue--->#87CEFA\n",
      "skyblue--->#87CEEB\n",
      "deepskyblue--->#00BFFF\n",
      "lightsteelblue--->#B0C4DE\n",
      "dodgerblue--->#1E90FF\n"
     ]
    }
   ],
   "source": [
    "#Get all rows from the table\n",
    "for row in table.find_all('tr'): # in html table row is represented by the tag <tr>\n",
    "    # Get all columns in each row.\n",
    "    cols = row.find_all('td') # in html a column is represented by the tag <td>\n",
    "    color_name = cols[2].getText() # store the value in column 3 as color_name\n",
    "    color_code = cols[3].getText() # store the value in column 4 as color_code\n",
    "    print(\"{}--->{}\".format(color_name,color_code))"
   ]
  },
  {
   "cell_type": "markdown",
   "metadata": {},
   "source": [
    "## Authors\n"
   ]
  },
  {
   "cell_type": "markdown",
   "metadata": {},
   "source": [
    "Ramesh Sannareddy\n"
   ]
  },
  {
   "cell_type": "markdown",
   "metadata": {},
   "source": [
    "### Other Contributors\n"
   ]
  },
  {
   "cell_type": "markdown",
   "metadata": {},
   "source": [
    "Rav Ahuja\n"
   ]
  },
  {
   "cell_type": "markdown",
   "metadata": {},
   "source": [
    "## Change Log\n"
   ]
  },
  {
   "cell_type": "markdown",
   "metadata": {},
   "source": [
    "| Date (YYYY-MM-DD) | Version | Changed By        | Change Description                 |\n",
    "| ----------------- | ------- | ----------------- | ---------------------------------- |\n",
    "| 2020-10-17        | 0.1     | Ramesh Sannareddy | Created initial version of the lab |\n"
   ]
  },
  {
   "cell_type": "markdown",
   "metadata": {},
   "source": [
    " Copyright © 2020 IBM Corporation. This notebook and its source code are released under the terms of the [MIT License](https://cognitiveclass.ai/mit-license?cm_mmc=Email_Newsletter-_-Developer_Ed%2BTech-_-WW_WW-_-SkillsNetwork-Courses-IBM-DA0321EN-SkillsNetwork-21426264&cm_mmca1=000026UJ&cm_mmca2=10006555&cm_mmca3=M12345678&cvosrc=email.Newsletter.M12345678&cvo_campaign=000026UJ&cm_mmc=Email_Newsletter-_-Developer_Ed%2BTech-_-WW_WW-_-SkillsNetwork-Courses-IBM-DA0321EN-SkillsNetwork-21426264&cm_mmca1=000026UJ&cm_mmca2=10006555&cm_mmca3=M12345678&cvosrc=email.Newsletter.M12345678&cvo_campaign=000026UJ&cm_mmc=Email_Newsletter-_-Developer_Ed%2BTech-_-WW_WW-_-SkillsNetwork-Courses-IBM-DA0321EN-SkillsNetwork-21426264&cm_mmca1=000026UJ&cm_mmca2=10006555&cm_mmca3=M12345678&cvosrc=email.Newsletter.M12345678&cvo_campaign=000026UJ&cm_mmc=Email_Newsletter-_-Developer_Ed%2BTech-_-WW_WW-_-SkillsNetwork-Courses-IBM-DA0321EN-SkillsNetwork-21426264&cm_mmca1=000026UJ&cm_mmca2=10006555&cm_mmca3=M12345678&cvosrc=email.Newsletter.M12345678&cvo_campaign=000026UJ).\n"
   ]
  }
 ],
 "metadata": {
  "kernelspec": {
   "display_name": "Python 3",
   "language": "python",
   "name": "python3"
  },
  "language_info": {
   "codemirror_mode": {
    "name": "ipython",
    "version": 3
   },
   "file_extension": ".py",
   "mimetype": "text/x-python",
   "name": "python",
   "nbconvert_exporter": "python",
   "pygments_lexer": "ipython3",
   "version": "3.7.6"
  }
 },
 "nbformat": 4,
 "nbformat_minor": 4
}
